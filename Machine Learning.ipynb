{
    "cells": [
        {
            "cell_type": "markdown",
            "metadata": {},
            "source": "## MACHINE LEARNING PROJECT"
        },
        {
            "cell_type": "markdown",
            "metadata": {},
            "source": "This project works on tele-customers data. It contains different attributes such as age,income, gender etc based on which the customers are classified into four categories.\nThe aim of the project is to classify tele-customers using different machine learning classifiers and analyzing their performance."
        },
        {
            "cell_type": "markdown",
            "metadata": {},
            "source": "## Importing data"
        },
        {
            "cell_type": "code",
            "execution_count": 88,
            "metadata": {},
            "outputs": [
                {
                    "name": "stdout",
                    "output_type": "stream",
                    "text": "--2020-04-06 06:55:49--  https://s3-api.us-geo.objectstorage.softlayer.net/cf-courses-data/CognitiveClass/ML0101ENv3/labs/teleCust1000t.csv\nResolving s3-api.us-geo.objectstorage.softlayer.net (s3-api.us-geo.objectstorage.softlayer.net)... 67.228.254.196\nConnecting to s3-api.us-geo.objectstorage.softlayer.net (s3-api.us-geo.objectstorage.softlayer.net)|67.228.254.196|:443... connected.\nHTTP request sent, awaiting response... 200 OK\nLength: 37048 (36K) [text/csv]\nSaving to: \u2018teleCust1000t.csv\u2019\n\n100%[======================================>] 37,048      --.-K/s   in 0.07s   \n\n2020-04-06 06:55:50 (484 KB/s) - \u2018teleCust1000t.csv\u2019 saved [37048/37048]\n\n"
                }
            ],
            "source": "!wget -O teleCust1000t.csv https://s3-api.us-geo.objectstorage.softlayer.net/cf-courses-data/CognitiveClass/ML0101ENv3/labs/teleCust1000t.csv\n    "
        },
        {
            "cell_type": "markdown",
            "metadata": {},
            "source": "Since tele-customers data is in the form of csv file. Let us first import pandas library and numpy library to analyze the input data"
        },
        {
            "cell_type": "code",
            "execution_count": 89,
            "metadata": {},
            "outputs": [],
            "source": "import numpy as np\nimport pandas as pd"
        },
        {
            "cell_type": "markdown",
            "metadata": {},
            "source": "Reading data :"
        },
        {
            "cell_type": "code",
            "execution_count": 90,
            "metadata": {},
            "outputs": [],
            "source": "data=pd.read_csv('teleCust1000t.csv')"
        },
        {
            "cell_type": "code",
            "execution_count": 91,
            "metadata": {},
            "outputs": [
                {
                    "data": {
                        "text/html": "<div>\n<style scoped>\n    .dataframe tbody tr th:only-of-type {\n        vertical-align: middle;\n    }\n\n    .dataframe tbody tr th {\n        vertical-align: top;\n    }\n\n    .dataframe thead th {\n        text-align: right;\n    }\n</style>\n<table border=\"1\" class=\"dataframe\">\n  <thead>\n    <tr style=\"text-align: right;\">\n      <th></th>\n      <th>region</th>\n      <th>tenure</th>\n      <th>age</th>\n      <th>marital</th>\n      <th>address</th>\n      <th>income</th>\n      <th>ed</th>\n      <th>employ</th>\n      <th>retire</th>\n      <th>gender</th>\n      <th>reside</th>\n      <th>custcat</th>\n    </tr>\n  </thead>\n  <tbody>\n    <tr>\n      <th>0</th>\n      <td>2</td>\n      <td>13</td>\n      <td>44</td>\n      <td>1</td>\n      <td>9</td>\n      <td>64.0</td>\n      <td>4</td>\n      <td>5</td>\n      <td>0.0</td>\n      <td>0</td>\n      <td>2</td>\n      <td>1</td>\n    </tr>\n    <tr>\n      <th>1</th>\n      <td>3</td>\n      <td>11</td>\n      <td>33</td>\n      <td>1</td>\n      <td>7</td>\n      <td>136.0</td>\n      <td>5</td>\n      <td>5</td>\n      <td>0.0</td>\n      <td>0</td>\n      <td>6</td>\n      <td>4</td>\n    </tr>\n    <tr>\n      <th>2</th>\n      <td>3</td>\n      <td>68</td>\n      <td>52</td>\n      <td>1</td>\n      <td>24</td>\n      <td>116.0</td>\n      <td>1</td>\n      <td>29</td>\n      <td>0.0</td>\n      <td>1</td>\n      <td>2</td>\n      <td>3</td>\n    </tr>\n    <tr>\n      <th>3</th>\n      <td>2</td>\n      <td>33</td>\n      <td>33</td>\n      <td>0</td>\n      <td>12</td>\n      <td>33.0</td>\n      <td>2</td>\n      <td>0</td>\n      <td>0.0</td>\n      <td>1</td>\n      <td>1</td>\n      <td>1</td>\n    </tr>\n    <tr>\n      <th>4</th>\n      <td>2</td>\n      <td>23</td>\n      <td>30</td>\n      <td>1</td>\n      <td>9</td>\n      <td>30.0</td>\n      <td>1</td>\n      <td>2</td>\n      <td>0.0</td>\n      <td>0</td>\n      <td>4</td>\n      <td>3</td>\n    </tr>\n  </tbody>\n</table>\n</div>",
                        "text/plain": "   region  tenure  age  marital  address  income  ed  employ  retire  gender  \\\n0       2      13   44        1        9    64.0   4       5     0.0       0   \n1       3      11   33        1        7   136.0   5       5     0.0       0   \n2       3      68   52        1       24   116.0   1      29     0.0       1   \n3       2      33   33        0       12    33.0   2       0     0.0       1   \n4       2      23   30        1        9    30.0   1       2     0.0       0   \n\n   reside  custcat  \n0       2        1  \n1       6        4  \n2       2        3  \n3       1        1  \n4       4        3  "
                    },
                    "execution_count": 91,
                    "metadata": {},
                    "output_type": "execute_result"
                }
            ],
            "source": "data.head(5)"
        },
        {
            "cell_type": "markdown",
            "metadata": {},
            "source": "We shall begin with understanding the data and preprocessing if required.\nLet us comprehend the input data- it's size, columns and data types"
        },
        {
            "cell_type": "markdown",
            "metadata": {},
            "source": "## Preprocessing"
        },
        {
            "cell_type": "code",
            "execution_count": 92,
            "metadata": {},
            "outputs": [
                {
                    "data": {
                        "text/plain": "(1000, 12)"
                    },
                    "execution_count": 92,
                    "metadata": {},
                    "output_type": "execute_result"
                }
            ],
            "source": "data.shape"
        },
        {
            "cell_type": "code",
            "execution_count": 93,
            "metadata": {},
            "outputs": [
                {
                    "name": "stdout",
                    "output_type": "stream",
                    "text": "<class 'pandas.core.frame.DataFrame'>\nRangeIndex: 1000 entries, 0 to 999\nData columns (total 12 columns):\nregion     1000 non-null int64\ntenure     1000 non-null int64\nage        1000 non-null int64\nmarital    1000 non-null int64\naddress    1000 non-null int64\nincome     1000 non-null float64\ned         1000 non-null int64\nemploy     1000 non-null int64\nretire     1000 non-null float64\ngender     1000 non-null int64\nreside     1000 non-null int64\ncustcat    1000 non-null int64\ndtypes: float64(2), int64(10)\nmemory usage: 93.8 KB\n"
                }
            ],
            "source": "data.info()\n"
        },
        {
            "cell_type": "code",
            "execution_count": 94,
            "metadata": {},
            "outputs": [
                {
                    "data": {
                        "text/plain": "Index(['region', 'tenure', 'age', 'marital', 'address', 'income', 'ed',\n       'employ', 'retire', 'gender', 'reside', 'custcat'],\n      dtype='object')"
                    },
                    "execution_count": 94,
                    "metadata": {},
                    "output_type": "execute_result"
                }
            ],
            "source": "data.columns"
        },
        {
            "cell_type": "markdown",
            "metadata": {},
            "source": "As we want to categorize data into different categories. We consider 'custcat' as the predictor or dependent variable"
        },
        {
            "cell_type": "code",
            "execution_count": 95,
            "metadata": {},
            "outputs": [],
            "source": "y=data['custcat']\n"
        },
        {
            "cell_type": "markdown",
            "metadata": {},
            "source": "The other columns such as 'region', 'tenure', 'age'..... are the independent variables stored as x\n"
        },
        {
            "cell_type": "code",
            "execution_count": 96,
            "metadata": {},
            "outputs": [
                {
                    "data": {
                        "text/html": "<div>\n<style scoped>\n    .dataframe tbody tr th:only-of-type {\n        vertical-align: middle;\n    }\n\n    .dataframe tbody tr th {\n        vertical-align: top;\n    }\n\n    .dataframe thead th {\n        text-align: right;\n    }\n</style>\n<table border=\"1\" class=\"dataframe\">\n  <thead>\n    <tr style=\"text-align: right;\">\n      <th></th>\n      <th>region</th>\n      <th>tenure</th>\n      <th>age</th>\n      <th>marital</th>\n      <th>address</th>\n      <th>income</th>\n      <th>ed</th>\n      <th>employ</th>\n      <th>retire</th>\n      <th>gender</th>\n      <th>reside</th>\n    </tr>\n  </thead>\n  <tbody>\n    <tr>\n      <th>0</th>\n      <td>2</td>\n      <td>13</td>\n      <td>44</td>\n      <td>1</td>\n      <td>9</td>\n      <td>64.0</td>\n      <td>4</td>\n      <td>5</td>\n      <td>0.0</td>\n      <td>0</td>\n      <td>2</td>\n    </tr>\n    <tr>\n      <th>1</th>\n      <td>3</td>\n      <td>11</td>\n      <td>33</td>\n      <td>1</td>\n      <td>7</td>\n      <td>136.0</td>\n      <td>5</td>\n      <td>5</td>\n      <td>0.0</td>\n      <td>0</td>\n      <td>6</td>\n    </tr>\n    <tr>\n      <th>2</th>\n      <td>3</td>\n      <td>68</td>\n      <td>52</td>\n      <td>1</td>\n      <td>24</td>\n      <td>116.0</td>\n      <td>1</td>\n      <td>29</td>\n      <td>0.0</td>\n      <td>1</td>\n      <td>2</td>\n    </tr>\n    <tr>\n      <th>3</th>\n      <td>2</td>\n      <td>33</td>\n      <td>33</td>\n      <td>0</td>\n      <td>12</td>\n      <td>33.0</td>\n      <td>2</td>\n      <td>0</td>\n      <td>0.0</td>\n      <td>1</td>\n      <td>1</td>\n    </tr>\n    <tr>\n      <th>4</th>\n      <td>2</td>\n      <td>23</td>\n      <td>30</td>\n      <td>1</td>\n      <td>9</td>\n      <td>30.0</td>\n      <td>1</td>\n      <td>2</td>\n      <td>0.0</td>\n      <td>0</td>\n      <td>4</td>\n    </tr>\n    <tr>\n      <th>5</th>\n      <td>2</td>\n      <td>41</td>\n      <td>39</td>\n      <td>0</td>\n      <td>17</td>\n      <td>78.0</td>\n      <td>2</td>\n      <td>16</td>\n      <td>0.0</td>\n      <td>1</td>\n      <td>1</td>\n    </tr>\n  </tbody>\n</table>\n</div>",
                        "text/plain": "   region  tenure  age  marital  address  income  ed  employ  retire  gender  \\\n0       2      13   44        1        9    64.0   4       5     0.0       0   \n1       3      11   33        1        7   136.0   5       5     0.0       0   \n2       3      68   52        1       24   116.0   1      29     0.0       1   \n3       2      33   33        0       12    33.0   2       0     0.0       1   \n4       2      23   30        1        9    30.0   1       2     0.0       0   \n5       2      41   39        0       17    78.0   2      16     0.0       1   \n\n   reside  \n0       2  \n1       6  \n2       2  \n3       1  \n4       4  \n5       1  "
                    },
                    "execution_count": 96,
                    "metadata": {},
                    "output_type": "execute_result"
                }
            ],
            "source": "from sklearn import preprocessing\nx=data[['region', 'tenure', 'age', 'marital', 'address', 'income', 'ed',\n       'employ', 'retire', 'gender', 'reside']]\nx[:6]"
        },
        {
            "cell_type": "markdown",
            "metadata": {},
            "source": "## Normalizing Data"
        },
        {
            "cell_type": "markdown",
            "metadata": {},
            "source": "Since data stored in each column has different ranges, let us normalize them to [0,1]. \nHere we are using the StandardScalar function "
        },
        {
            "cell_type": "code",
            "execution_count": 97,
            "metadata": {},
            "outputs": [
                {
                    "name": "stderr",
                    "output_type": "stream",
                    "text": "/opt/conda/envs/Python36/lib/python3.6/site-packages/sklearn/preprocessing/data.py:645: DataConversionWarning: Data with input dtype int64, float64 were all converted to float64 by StandardScaler.\n  return self.partial_fit(X, y)\n"
                }
            ],
            "source": "x=preprocessing.StandardScaler().fit(x).transform(x.astype(float))"
        },
        {
            "cell_type": "code",
            "execution_count": 98,
            "metadata": {},
            "outputs": [
                {
                    "data": {
                        "text/plain": "array([[-0.02696767, -1.055125  ,  0.18450456,  1.0100505 , -0.25303431,\n        -0.12650641,  1.0877526 , -0.5941226 , -0.22207644, -1.03459817,\n        -0.23065004],\n       [ 1.19883553, -1.14880563, -0.69181243,  1.0100505 , -0.4514148 ,\n         0.54644972,  1.9062271 , -0.5941226 , -0.22207644, -1.03459817,\n         2.55666158],\n       [ 1.19883553,  1.52109247,  0.82182601,  1.0100505 ,  1.23481934,\n         0.35951747, -1.36767088,  1.78752803, -0.22207644,  0.96655883,\n        -0.23065004],\n       [-0.02696767, -0.11831864, -0.69181243, -0.9900495 ,  0.04453642,\n        -0.41625141, -0.54919639, -1.09029981, -0.22207644,  0.96655883,\n        -0.92747794],\n       [-0.02696767, -0.58672182, -0.93080797,  1.0100505 , -0.25303431,\n        -0.44429125, -1.36767088, -0.89182893, -0.22207644, -1.03459817,\n         1.16300577],\n       [-0.02696767,  0.2564039 , -0.21382135, -0.9900495 ,  0.54048764,\n         0.00434618, -0.54919639,  0.49746728, -0.22207644,  0.96655883,\n        -0.92747794]])"
                    },
                    "execution_count": 98,
                    "metadata": {},
                    "output_type": "execute_result"
                }
            ],
            "source": "x[:6]"
        },
        {
            "cell_type": "markdown",
            "metadata": {},
            "source": "## Splitting Data"
        },
        {
            "cell_type": "markdown",
            "metadata": {},
            "source": "After normalizing the data, we need to split it into two parts: training data and testing data\nTraining Data: The data used by the Machine Learning Model to learn the underlying patterns. \nUsually we classify 25% of input data as test-data and 75% as training data.\nThe train-test-split function from sklearn's model_selection is used for this purpose.\nIt returns 4 parts: x-train,y-train, x-test, y-test"
        },
        {
            "cell_type": "code",
            "execution_count": 99,
            "metadata": {},
            "outputs": [],
            "source": "from sklearn.model_selection import train_test_split\nx_train,x_test,y_train,y_test=train_test_split(x,y,test_size=0.25,random_state=4)"
        },
        {
            "cell_type": "code",
            "execution_count": 100,
            "metadata": {},
            "outputs": [
                {
                    "name": "stdout",
                    "output_type": "stream",
                    "text": "(750, 11) (750,) (250, 11) (250,)\n"
                }
            ],
            "source": "print(x_train.shape,y_train.shape,x_test.shape,y_test.shape)"
        },
        {
            "cell_type": "markdown",
            "metadata": {},
            "source": "## Modelling"
        },
        {
            "cell_type": "markdown",
            "metadata": {},
            "source": "## 1) K NEAREST NEIGHBORS CLASSIFIER"
        },
        {
            "cell_type": "code",
            "execution_count": 101,
            "metadata": {},
            "outputs": [
                {
                    "data": {
                        "text/plain": "KNeighborsClassifier(algorithm='auto', leaf_size=30, metric='minkowski',\n           metric_params=None, n_jobs=None, n_neighbors=4, p=2,\n           weights='uniform')"
                    },
                    "execution_count": 101,
                    "metadata": {},
                    "output_type": "execute_result"
                }
            ],
            "source": "from sklearn.neighbors import KNeighborsClassifier\nk=4\nknn_model=KNeighborsClassifier(n_neighbors=k).fit(x_train,y_train)\nknn_model"
        },
        {
            "cell_type": "code",
            "execution_count": 136,
            "metadata": {},
            "outputs": [],
            "source": "accuracy={}"
        },
        {
            "cell_type": "code",
            "execution_count": 103,
            "metadata": {},
            "outputs": [],
            "source": "from sklearn import metrics\nfrom sklearn.metrics import f1_score,jaccard_similarity_score\ntrain_accuracy=metrics.accuracy_score(y_train,model.predict(x_train))"
        },
        {
            "cell_type": "code",
            "execution_count": 104,
            "metadata": {},
            "outputs": [],
            "source": "test_accuracy=metrics.accuracy_score(y_test,y_pred)"
        },
        {
            "cell_type": "code",
            "execution_count": 105,
            "metadata": {},
            "outputs": [
                {
                    "name": "stdout",
                    "output_type": "stream",
                    "text": "Accuracy for train data: 0.4866666666666667\n"
                }
            ],
            "source": "print(\"Accuracy for train data:\",train_accuracy)\n\n"
        },
        {
            "cell_type": "code",
            "execution_count": 106,
            "metadata": {},
            "outputs": [
                {
                    "data": {
                        "text/plain": "0.39103375817980474"
                    },
                    "execution_count": 106,
                    "metadata": {},
                    "output_type": "execute_result"
                }
            ],
            "source": "# evaluating the knn model using Jaccard Similarity Score and F1-Score\nf1_score(y_test,y_pred,average=\"weighted\")\n"
        },
        {
            "cell_type": "code",
            "execution_count": 107,
            "metadata": {},
            "outputs": [
                {
                    "data": {
                        "text/plain": "0.408"
                    },
                    "execution_count": 107,
                    "metadata": {},
                    "output_type": "execute_result"
                }
            ],
            "source": "jaccard_similarity_score(y_test,y_pred)"
        },
        {
            "cell_type": "code",
            "execution_count": null,
            "metadata": {},
            "outputs": [],
            "source": ""
        },
        {
            "cell_type": "markdown",
            "metadata": {},
            "source": "## 2) DECISION TREE CLASSIFIER"
        },
        {
            "cell_type": "markdown",
            "metadata": {},
            "source": "Now, let us try to predict customer category using Decision Tree Classifier"
        },
        {
            "cell_type": "code",
            "execution_count": 108,
            "metadata": {},
            "outputs": [
                {
                    "data": {
                        "text/plain": "DecisionTreeClassifier(class_weight=None, criterion='entropy', max_depth=4,\n            max_features=None, max_leaf_nodes=None,\n            min_impurity_decrease=0.0, min_impurity_split=None,\n            min_samples_leaf=1, min_samples_split=2,\n            min_weight_fraction_leaf=0.0, presort=False, random_state=None,\n            splitter='best')"
                    },
                    "execution_count": 108,
                    "metadata": {},
                    "output_type": "execute_result"
                }
            ],
            "source": "from sklearn.tree import DecisionTreeClassifier\ntree_model=DecisionTreeClassifier(criterion=\"entropy\",max_depth=4)\n# here we are randomly choosing the max_depth of the tree to be 4\ntree_model.fit(x_train,y_train)\n"
        },
        {
            "cell_type": "code",
            "execution_count": 109,
            "metadata": {},
            "outputs": [
                {
                    "name": "stdout",
                    "output_type": "stream",
                    "text": "Accuracy of decision tree for max_depth =  1 =  0.388\nAccuracy of decision tree for max_depth =  2 =  0.424\nAccuracy of decision tree for max_depth =  3 =  0.364\nAccuracy of decision tree for max_depth =  4 =  0.328\nAccuracy of decision tree for max_depth =  5 =  0.324\nAccuracy of decision tree for max_depth =  6 =  0.32\nAccuracy of decision tree for max_depth =  7 =  0.324\nAccuracy of decision tree for max_depth =  8 =  0.312\n"
                }
            ],
            "source": "depths=8\naccs=np.zeros(depths)\nfor i in range(1,depths+1):\n    tree_model=DecisionTreeClassifier(criterion=\"entropy\",max_depth=i)\n    tree_model.fit(x_train,y_train)\n    y_pred=tree_model.predict(x_test)\n    accs[i-1]=(metrics.accuracy_score(y_test,y_pred))\n    print(\"Accuracy of decision tree for max_depth = \",i,\"= \",accs[i-1])"
        },
        {
            "cell_type": "code",
            "execution_count": 110,
            "metadata": {},
            "outputs": [
                {
                    "data": {
                        "text/plain": "Text(0.5, 1.0, 'Decision Tree Classifier Accuracy')"
                    },
                    "execution_count": 110,
                    "metadata": {},
                    "output_type": "execute_result"
                },
                {
                    "data": {
                        "image/png": "[encoded data removed]",
                        "text/plain": "<Figure size 432x288 with 1 Axes>"
                    },
                    "metadata": {
                        "needs_background": "light"
                    },
                    "output_type": "display_data"
                }
            ],
            "source": "plt.plot(np.arange(1,depths+1,1),accs[:])\nplt.xlabel(\"max depth of tree\")\nplt.ylabel(\"accuracy\")\nplt.title(\"Decision Tree Classifier Accuracy\")"
        },
        {
            "cell_type": "code",
            "execution_count": 111,
            "metadata": {},
            "outputs": [
                {
                    "name": "stdout",
                    "output_type": "stream",
                    "text": "The maximum accuracy obtained using Decision Tree Classifier is  0.424  for max_depth =  2\n"
                }
            ],
            "source": "print(\"The maximum accuracy obtained using Decision Tree Classifier is \",accs.max(),\" for max_depth = \",accs.argmax()+1)"
        },
        {
            "cell_type": "code",
            "execution_count": 112,
            "metadata": {},
            "outputs": [],
            "source": "accuracy['DT']=accs.max()\n"
        },
        {
            "cell_type": "markdown",
            "metadata": {},
            "source": "## 3) SUPPORT VECTOR MACHINES\n"
        },
        {
            "cell_type": "markdown",
            "metadata": {},
            "source": "Support Vector Machines are supervised learning models commonly used for classification. "
        },
        {
            "cell_type": "code",
            "execution_count": 113,
            "metadata": {},
            "outputs": [],
            "source": "from sklearn import svm\n"
        },
        {
            "cell_type": "markdown",
            "metadata": {},
            "source": "SVM classifiers are defined on different kernels. Here we are using 'Radial Basis Function' (RBF) Kernel"
        },
        {
            "cell_type": "code",
            "execution_count": 114,
            "metadata": {},
            "outputs": [
                {
                    "name": "stderr",
                    "output_type": "stream",
                    "text": "/opt/conda/envs/Python36/lib/python3.6/site-packages/sklearn/svm/base.py:196: FutureWarning: The default value of gamma will change from 'auto' to 'scale' in version 0.22 to account better for unscaled features. Set gamma explicitly to 'auto' or 'scale' to avoid this warning.\n  \"avoid this warning.\", FutureWarning)\n"
                },
                {
                    "data": {
                        "text/plain": "SVC(C=1.0, cache_size=200, class_weight=None, coef0=0.0,\n  decision_function_shape='ovr', degree=3, gamma='auto_deprecated',\n  kernel='rbf', max_iter=-1, probability=False, random_state=None,\n  shrinking=True, tol=0.001, verbose=False)"
                    },
                    "execution_count": 114,
                    "metadata": {},
                    "output_type": "execute_result"
                }
            ],
            "source": "svm_model=svm.SVC(kernel=\"rbf\")\nsvm_model.fit(x_train,y_train)"
        },
        {
            "cell_type": "code",
            "execution_count": 115,
            "metadata": {},
            "outputs": [],
            "source": "accuracy['SVM']=jaccard_similarity_score(y_test,y_pred)"
        },
        {
            "cell_type": "markdown",
            "metadata": {},
            "source": "## 4) LOGISTIC REGRESSION\n\nLogistic regression is another technique borrowed by machine learning from the field of statistics. It is used when the predictor variables are categorical. Let us use it to predict our customer-category"
        },
        {
            "cell_type": "code",
            "execution_count": 116,
            "metadata": {},
            "outputs": [],
            "source": "from sklearn.linear_model import LogisticRegression\n"
        },
        {
            "cell_type": "code",
            "execution_count": 117,
            "metadata": {},
            "outputs": [],
            "source": "LR_ll=LogisticRegression(C =0.01,solver=\"liblinear\")"
        },
        {
            "cell_type": "markdown",
            "metadata": {},
            "source": "Here the value 'C' refers to the inverse of regularization strength. It must be a positive float value.\nsolver can be 'newton-cg', 'lbfgs', 'liblinear', 'saga' etc."
        },
        {
            "cell_type": "code",
            "execution_count": 118,
            "metadata": {},
            "outputs": [
                {
                    "name": "stderr",
                    "output_type": "stream",
                    "text": "/opt/conda/envs/Python36/lib/python3.6/site-packages/sklearn/linear_model/logistic.py:460: FutureWarning: Default multi_class will be changed to 'auto' in 0.22. Specify the multi_class option to silence this warning.\n  \"this warning.\", FutureWarning)\n"
                },
                {
                    "data": {
                        "text/plain": "LogisticRegression(C=0.01, class_weight=None, dual=False, fit_intercept=True,\n          intercept_scaling=1, max_iter=100, multi_class='warn',\n          n_jobs=None, penalty='l2', random_state=None, solver='liblinear',\n          tol=0.0001, verbose=0, warm_start=False)"
                    },
                    "execution_count": 118,
                    "metadata": {},
                    "output_type": "execute_result"
                }
            ],
            "source": "LR_ll.fit(x_train,y_train)"
        },
        {
            "cell_type": "markdown",
            "metadata": {},
            "source": "## Evaluating on test data\nHere we are using the following evaluation metrics:\n1. Jaccard Similarity Score\n2. F1-Score\n3. Logloss\n\n## 1) Evaluating KNN Model "
        },
        {
            "cell_type": "code",
            "execution_count": 119,
            "metadata": {},
            "outputs": [],
            "source": "y_pred=knn_model.predict(x_test)"
        },
        {
            "cell_type": "code",
            "execution_count": 120,
            "metadata": {},
            "outputs": [
                {
                    "data": {
                        "text/plain": "array([0.296, 0.3  , 0.304, 0.332, 0.34 , 0.316, 0.356, 0.332, 0.356,\n       0.344])"
                    },
                    "execution_count": 120,
                    "metadata": {},
                    "output_type": "execute_result"
                }
            ],
            "source": "k_values=10\nacc=np.zeros(k_values)\nacc_jaccard=np.zeros(k_values)\nacc_f1_score=np.zeros(k_values)\nfor i in range(1,k_values+1):\n    knn_model=KNeighborsClassifier(n_neighbors=i).fit(\n        x_train,y_train)\n    y_pred=knn_model.predict(x_test)\n    acc[i-1]=metrics.accuracy_score(y_test,y_pred)\n    acc_jaccard[i-1]=jaccard_similarity_score(y_test,y_pred)\n    acc_f1_score[i-1]=f1_score(y_test,y_pred,average=\"weighted\")\nacc"
        },
        {
            "cell_type": "code",
            "execution_count": 121,
            "metadata": {},
            "outputs": [
                {
                    "name": "stdout",
                    "output_type": "stream",
                    "text": "F1-score [0.29579241 0.26342228 0.29030848 0.32444359 0.33318986 0.31105777\n 0.35372556 0.32749802 0.35138333 0.33617833]\nJaccard similarity score [0.296 0.3   0.304 0.332 0.34  0.316 0.356 0.332 0.356 0.344]\n"
                }
            ],
            "source": "print('F1-score',acc_f1_score)\nprint(\"Jaccard similarity score\",acc_jaccard)"
        },
        {
            "cell_type": "code",
            "execution_count": 124,
            "metadata": {},
            "outputs": [
                {
                    "data": {
                        "text/plain": "Text(0.5, 1.0, 'K Nearest Neighbours Classifier Accuracy')"
                    },
                    "execution_count": 124,
                    "metadata": {},
                    "output_type": "execute_result"
                },
                {
                    "data": {
                        "image/png": "[encoded data removed]",
                        "text/plain": "<Figure size 432x288 with 1 Axes>"
                    },
                    "metadata": {
                        "needs_background": "light"
                    },
                    "output_type": "display_data"
                }
            ],
            "source": "%matplotlib inline\nimport matplotlib.pyplot as plt\nplt.plot(np.arange(1,11,1),acc[:])\nplt.xlabel(\"k-values\")\nplt.ylabel(\"accuracy\")\nplt.title(\"K Nearest Neighbours Classifier Accuracy\")"
        },
        {
            "cell_type": "code",
            "execution_count": 125,
            "metadata": {},
            "outputs": [
                {
                    "name": "stdout",
                    "output_type": "stream",
                    "text": "The maximum accuracy obtained using KNN Classifier is  0.356  for k value =  7\n"
                }
            ],
            "source": "print(\"The maximum accuracy obtained using KNN Classifier is \",acc.max(),\" for k value = \",acc.argmax()+1)"
        },
        {
            "cell_type": "code",
            "execution_count": 126,
            "metadata": {},
            "outputs": [
                {
                    "name": "stdout",
                    "output_type": "stream",
                    "text": "The maximum accuracy Jaccard score obtained using KNN Classifier is  0.356  for k value =  7\n"
                }
            ],
            "source": "print(\"The maximum accuracy Jaccard score obtained using KNN Classifier is \",acc_jaccard.max(),\" for k value = \",acc_jaccard.argmax()+1)"
        },
        {
            "cell_type": "code",
            "execution_count": 127,
            "metadata": {
                "scrolled": true
            },
            "outputs": [
                {
                    "name": "stdout",
                    "output_type": "stream",
                    "text": "The maximum accuracy F1 score obtained using KNN Classifier is  0.35372556099971597  for k value =  7\n"
                }
            ],
            "source": "print(\"The maximum accuracy F1 score obtained using KNN Classifier is \",acc_f1_score.max(),\" for k value = \",acc_f1_score.argmax()+1)"
        },
        {
            "cell_type": "code",
            "execution_count": 160,
            "metadata": {},
            "outputs": [],
            "source": "accuracy['knn']=acc.max()\n"
        },
        {
            "cell_type": "code",
            "execution_count": 137,
            "metadata": {},
            "outputs": [],
            "source": "accuracy_knn={}\naccuracy_knn['Jaccard Similarity Index']=acc_jaccard.max()\naccuracy_knn['F1-score']=acc_f1_score.max()\n"
        },
        {
            "cell_type": "code",
            "execution_count": 138,
            "metadata": {},
            "outputs": [
                {
                    "data": {
                        "text/plain": "{'Jaccard Similarity Index': 0.356, 'F1-score': 0.35372556099971597}"
                    },
                    "execution_count": 138,
                    "metadata": {},
                    "output_type": "execute_result"
                }
            ],
            "source": "accuracy_knn"
        },
        {
            "cell_type": "markdown",
            "metadata": {},
            "source": "## 2) Evaluating Decision Tree Classifier"
        },
        {
            "cell_type": "code",
            "execution_count": 129,
            "metadata": {},
            "outputs": [],
            "source": "y_pred_tree=tree_model.predict(x_test)"
        },
        {
            "cell_type": "code",
            "execution_count": 130,
            "metadata": {},
            "outputs": [
                {
                    "name": "stdout",
                    "output_type": "stream",
                    "text": "Accuracy of decision tree =  0.344\n"
                }
            ],
            "source": "print(\"Accuracy of decision tree = \",metrics.accuracy_score(y_test,y_pred))"
        },
        {
            "cell_type": "markdown",
            "metadata": {},
            "source": "Let us now predict accuracy of decision tree for different depths:"
        },
        {
            "cell_type": "code",
            "execution_count": 131,
            "metadata": {},
            "outputs": [
                {
                    "name": "stderr",
                    "output_type": "stream",
                    "text": "/opt/conda/envs/Python36/lib/python3.6/site-packages/sklearn/metrics/classification.py:1143: UndefinedMetricWarning: F-score is ill-defined and being set to 0.0 in labels with no predicted samples.\n  'precision', 'predicted', average, warn_for)\n/opt/conda/envs/Python36/lib/python3.6/site-packages/sklearn/metrics/classification.py:1143: UndefinedMetricWarning: F-score is ill-defined and being set to 0.0 in labels with no predicted samples.\n  'precision', 'predicted', average, warn_for)\n"
                }
            ],
            "source": "depths=8\naccs=np.zeros(depths)\naccs_jaccard=np.zeros(depths)\naccs_f1_score=np.zeros(depths)\nfor i in range(1,depths+1):\n    tree_model=DecisionTreeClassifier(criterion=\"entropy\",max_depth=i)\n    tree_model.fit(x_train,y_train)\n    y_pred_tree=tree_model.predict(x_test)\n    accs[i-1]=(metrics.accuracy_score(y_test,y_pred_tree))\n    accs_jaccard[i-1]=jaccard_similarity_score(y_test,y_pred_tree)\n    accs_f1_score[i-1]=f1_score(y_test,y_pred_tree,average=\"weighted\")\n    #print(\"Accuracy of decision tree for max_depth = \",i,\"= \",accs[i-1])"
        },
        {
            "cell_type": "code",
            "execution_count": 139,
            "metadata": {},
            "outputs": [
                {
                    "name": "stdout",
                    "output_type": "stream",
                    "text": "The maximum accuracy obtained using DT Classifier is  0.424  for depth value =  2\n"
                }
            ],
            "source": "print(\"The maximum accuracy obtained using DT Classifier is \",accs.max(),\" for depth value = \",accs.argmax()+1)"
        },
        {
            "cell_type": "code",
            "execution_count": 140,
            "metadata": {},
            "outputs": [],
            "source": "accuracy['DT']=accs.max()"
        },
        {
            "cell_type": "code",
            "execution_count": 132,
            "metadata": {},
            "outputs": [
                {
                    "name": "stdout",
                    "output_type": "stream",
                    "text": "Jaccard score is maximum of 0.424  for depth = 2\n"
                }
            ],
            "source": "print('Jaccard score is maximum of',accs_jaccard.max(),' for depth =',accs_jaccard.argmax()+1)"
        },
        {
            "cell_type": "code",
            "execution_count": 133,
            "metadata": {},
            "outputs": [
                {
                    "name": "stdout",
                    "output_type": "stream",
                    "text": "F1-score is maximum of  0.3736602909332768  for depth= 2\n"
                }
            ],
            "source": "print('F1-score is maximum of ',accs_f1_score.max(),' for depth=',accs_f1_score.argmax()+\n      1)"
        },
        {
            "cell_type": "code",
            "execution_count": 134,
            "metadata": {},
            "outputs": [],
            "source": "accuracy_dt={}\naccuracy_dt['Jaccard Similarity Index']=accs_jaccard.max()\naccuracy_dt['F1-score']=accs_f1_score.max()\n"
        },
        {
            "cell_type": "code",
            "execution_count": 135,
            "metadata": {},
            "outputs": [
                {
                    "data": {
                        "text/plain": "{'Jaccard Similarity Index': 0.424, 'F1-score': 0.3736602909332768}"
                    },
                    "execution_count": 135,
                    "metadata": {},
                    "output_type": "execute_result"
                }
            ],
            "source": "accuracy_dt"
        },
        {
            "cell_type": "markdown",
            "metadata": {},
            "source": "## 3)Evaluating SVM"
        },
        {
            "cell_type": "code",
            "execution_count": 141,
            "metadata": {},
            "outputs": [],
            "source": "y_pred_svm=svm_model.predict(x_test)"
        },
        {
            "cell_type": "markdown",
            "metadata": {},
            "source": "The performance of SVM can be analyzed using Confusion Matrix or F1-score or Jaccard Score"
        },
        {
            "cell_type": "code",
            "execution_count": 142,
            "metadata": {},
            "outputs": [],
            "source": "from sklearn.metrics import confusion_matrix\nc_matrix=confusion_matrix(y_test,y_pred_svm,labels=[2,4])"
        },
        {
            "cell_type": "code",
            "execution_count": 143,
            "metadata": {},
            "outputs": [
                {
                    "data": {
                        "text/plain": "array([[14, 16],\n       [18, 17]])"
                    },
                    "execution_count": 143,
                    "metadata": {},
                    "output_type": "execute_result"
                }
            ],
            "source": "c_matrix"
        },
        {
            "cell_type": "code",
            "execution_count": 144,
            "metadata": {},
            "outputs": [],
            "source": "from sklearn.metrics import f1_score,jaccard_similarity_score"
        },
        {
            "cell_type": "code",
            "execution_count": 145,
            "metadata": {},
            "outputs": [],
            "source": "\naccuracy_svm={}\naccuracy_svm['F1-Score']=f1_score(y_test,y_pred_svm,average=\"weighted\")\naccuracy_svm['Jaccard Similarity Score']=jaccard_similarity_score(y_test,y_pred_svm)"
        },
        {
            "cell_type": "code",
            "execution_count": 146,
            "metadata": {},
            "outputs": [],
            "source": "accuracy['SVM']=metrics.accuracy_score(y_test,y_pred_svm)"
        },
        {
            "cell_type": "code",
            "execution_count": 147,
            "metadata": {},
            "outputs": [
                {
                    "data": {
                        "text/plain": "{'F1-Score': 0.37662825652099036, 'Jaccard Similarity Score': 0.388}"
                    },
                    "execution_count": 147,
                    "metadata": {},
                    "output_type": "execute_result"
                }
            ],
            "source": "accuracy_svm"
        },
        {
            "cell_type": "markdown",
            "metadata": {},
            "source": "## 4) Evaluating Logistic Regression"
        },
        {
            "cell_type": "code",
            "execution_count": 148,
            "metadata": {},
            "outputs": [],
            "source": "y_pred_lr=LR_ll.predict(x_test)"
        },
        {
            "cell_type": "code",
            "execution_count": 149,
            "metadata": {},
            "outputs": [],
            "source": "accuracy['LR']=metrics.accuracy_score(y_test,y_pred_lr)"
        },
        {
            "cell_type": "code",
            "execution_count": 150,
            "metadata": {},
            "outputs": [],
            "source": "y_pred_proba=LR_ll.predict_proba(x_test)"
        },
        {
            "cell_type": "markdown",
            "metadata": {},
            "source": "predict_proba function is used to predict the probability of a customer belonging to a category (here 1/2/3/4)"
        },
        {
            "cell_type": "code",
            "execution_count": 151,
            "metadata": {},
            "outputs": [
                {
                    "data": {
                        "text/plain": "array([1, 1, 4, 4, 4, 4, 3, 4, 3, 2, 1, 2, 3, 1, 4, 1, 2, 2, 3, 4, 3, 1,\n       1, 1, 4, 4, 1, 1, 1, 1, 3, 1, 4, 3, 1, 2, 3, 3, 4, 4, 3, 4, 3, 1,\n       4, 4, 3, 1, 4, 4, 3, 1, 4, 3, 3, 1, 4, 1, 1, 1, 1, 4, 4, 3, 3, 3,\n       4, 3, 4, 4, 1, 3, 2, 3, 1, 4, 1, 2, 4, 2, 1, 1, 3, 1, 1, 3, 3, 3,\n       1, 1, 1, 4, 1, 2, 4, 3, 4, 4, 1, 1, 3, 1, 1, 1, 1, 4, 3, 2, 2, 1,\n       4, 3, 2, 4, 1, 3, 3, 3, 2, 1, 1, 1, 2, 3, 3, 4, 4, 3, 1, 4, 3, 1,\n       1, 3, 3, 3, 4, 1, 1, 3, 4, 4, 4, 1, 1, 4, 4, 1, 4, 4, 4, 4, 2, 4,\n       2, 3, 3, 3, 1, 2, 4, 3, 1, 1, 1, 4, 1, 1, 3, 1, 3, 4, 2, 3, 4, 3,\n       3, 4, 1, 1, 3, 3, 1, 1, 3, 3, 3, 1, 3, 1, 3, 1, 4, 1, 3, 4, 3, 1,\n       3, 1, 4, 3, 1, 1, 4, 1, 3, 1, 1, 2, 3, 1, 1, 3, 3, 3, 3, 1, 1, 3,\n       4, 3, 3, 4, 1, 1, 1, 1, 2, 3, 4, 2, 1, 1, 2, 2, 1, 2, 2, 4, 3, 4,\n       4, 3, 4, 3, 4, 1, 2, 3])"
                    },
                    "execution_count": 151,
                    "metadata": {},
                    "output_type": "execute_result"
                }
            ],
            "source": "y_pred_lr"
        },
        {
            "cell_type": "code",
            "execution_count": 152,
            "metadata": {},
            "outputs": [
                {
                    "data": {
                        "text/plain": "array([[0.29275433, 0.18908378, 0.28635574, 0.23180615],\n       [0.38079545, 0.17018773, 0.26463254, 0.18438428],\n       [0.23131557, 0.24437115, 0.19714575, 0.32716753],\n       [0.26669291, 0.23393473, 0.1828532 , 0.31651916],\n       [0.15517714, 0.29938354, 0.16343463, 0.38200468],\n       [0.11677928, 0.2844709 , 0.28437124, 0.31437858],\n       [0.20070022, 0.21029194, 0.40555527, 0.18345257],\n       [0.29392713, 0.23712639, 0.1512647 , 0.31768179],\n       [0.18052604, 0.27261372, 0.32811951, 0.21874073],\n       [0.1717593 , 0.30826957, 0.23820104, 0.28177009],\n       [0.29791229, 0.22642453, 0.19972916, 0.27593402],\n       [0.21400516, 0.28821374, 0.24892879, 0.24885231],\n       [0.14924856, 0.2387383 , 0.32315603, 0.28885711],\n       [0.31994411, 0.22423759, 0.26763316, 0.18818514],\n       [0.23325213, 0.21535112, 0.27047224, 0.28092451],\n       [0.44246125, 0.15905852, 0.24004978, 0.15843045],\n       [0.14320456, 0.33578275, 0.20821418, 0.31279851],\n       [0.14832602, 0.33839428, 0.19333618, 0.31994353],\n       [0.18241208, 0.22260275, 0.44089553, 0.15408963],\n       [0.27998415, 0.26558422, 0.16853157, 0.28590006],\n       [0.16211337, 0.21167829, 0.5026301 , 0.12357823],\n       [0.29983956, 0.2238369 , 0.26920317, 0.20712036],\n       [0.39015757, 0.18606397, 0.23207176, 0.19170671],\n       [0.29992131, 0.22126242, 0.19201413, 0.28680215],\n       [0.2798013 , 0.22129284, 0.15780001, 0.34110585],\n       [0.23040491, 0.24332646, 0.2525682 , 0.27370043],\n       [0.28814274, 0.24987353, 0.18938616, 0.27259758],\n       [0.30961139, 0.23500364, 0.18652629, 0.26885868],\n       [0.32347292, 0.20409789, 0.19107295, 0.28135625],\n       [0.33509997, 0.21256808, 0.19880923, 0.25352271],\n       [0.24318472, 0.22145588, 0.32139394, 0.21396546],\n       [0.32384681, 0.21475607, 0.23185315, 0.22954396],\n       [0.25014551, 0.220729  , 0.14151462, 0.38761087],\n       [0.1605221 , 0.26901726, 0.40807729, 0.16238335],\n       [0.34171893, 0.22347678, 0.24601644, 0.18878785],\n       [0.11236294, 0.36244955, 0.19292882, 0.33225869],\n       [0.1314461 , 0.2478098 , 0.46252348, 0.15822062],\n       [0.27302544, 0.25576774, 0.32383061, 0.14737621],\n       [0.16678183, 0.28094033, 0.23668487, 0.31559296],\n       [0.18287388, 0.28799192, 0.21139234, 0.31774185],\n       [0.24498248, 0.25012775, 0.31456886, 0.19032091],\n       [0.21828746, 0.27223209, 0.19254107, 0.31693938],\n       [0.28628767, 0.23487708, 0.31716493, 0.16167032],\n       [0.35616958, 0.1980903 , 0.20153676, 0.24420337],\n       [0.15526702, 0.29066013, 0.20807418, 0.34599866],\n       [0.31403459, 0.21082823, 0.14509482, 0.33004236],\n       [0.27502963, 0.25232396, 0.28332523, 0.18932119],\n       [0.42038368, 0.15172786, 0.27844839, 0.14944007],\n       [0.18146376, 0.3073061 , 0.14583919, 0.36539095],\n       [0.22026101, 0.28072177, 0.16974224, 0.32927498],\n       [0.21008914, 0.27453671, 0.30773324, 0.20764091],\n       [0.42187269, 0.16157119, 0.21196552, 0.2045906 ],\n       [0.18870538, 0.32981615, 0.14835041, 0.33312805],\n       [0.21601806, 0.25267826, 0.27218411, 0.25911957],\n       [0.17227501, 0.26256121, 0.37650078, 0.188663  ],\n       [0.35180744, 0.20529562, 0.21198912, 0.23090782],\n       [0.09843813, 0.29471248, 0.27830928, 0.32854012],\n       [0.32466681, 0.2143194 , 0.26536089, 0.1956529 ],\n       [0.30248383, 0.22083208, 0.18748417, 0.28919993],\n       [0.32205687, 0.20054042, 0.18585167, 0.29155104],\n       [0.35957398, 0.18464663, 0.27321176, 0.18256763],\n       [0.14240078, 0.31806429, 0.21212526, 0.32740967],\n       [0.16228461, 0.25929198, 0.26428721, 0.3141362 ],\n       [0.29278137, 0.2067276 , 0.35827311, 0.14221792],\n       [0.15307538, 0.26943865, 0.35288978, 0.22459619],\n       [0.27096387, 0.16836236, 0.3722789 , 0.18839487],\n       [0.22715556, 0.23742753, 0.22524709, 0.31016982],\n       [0.26338416, 0.23850559, 0.34714015, 0.1509701 ],\n       [0.12640114, 0.31528787, 0.18059407, 0.37771692],\n       [0.26262847, 0.20705023, 0.19125577, 0.33906553],\n       [0.32138779, 0.22440196, 0.24503395, 0.2091763 ],\n       [0.19727974, 0.24964844, 0.31433294, 0.23873888],\n       [0.13326185, 0.32319655, 0.22958109, 0.31396051],\n       [0.23147947, 0.24813   , 0.3780431 , 0.14234743],\n       [0.35115303, 0.1846375 , 0.22947972, 0.23472976],\n       [0.26302558, 0.26753314, 0.15721357, 0.31222771],\n       [0.30899472, 0.22727394, 0.18524486, 0.27848649],\n       [0.17021095, 0.32129071, 0.28950422, 0.21899411],\n       [0.27706485, 0.21847979, 0.18455699, 0.31989838],\n       [0.15659446, 0.30849725, 0.2273772 , 0.30753108],\n       [0.31985565, 0.22756057, 0.21376171, 0.23882207],\n       [0.33562087, 0.23488602, 0.27055862, 0.15893449],\n       [0.23024917, 0.23406178, 0.33433774, 0.20135131],\n       [0.34598795, 0.20352411, 0.17434391, 0.27614403],\n       [0.33373342, 0.2241589 , 0.20881126, 0.23329643],\n       [0.19755526, 0.24485361, 0.35035309, 0.20723804],\n       [0.14236297, 0.23738352, 0.44966789, 0.17058562],\n       [0.24795983, 0.24153905, 0.29627843, 0.21422269],\n       [0.36637395, 0.18099808, 0.27599939, 0.17662859],\n       [0.32768912, 0.21738238, 0.22261269, 0.2323158 ],\n       [0.32570109, 0.20423174, 0.28185173, 0.18821545],\n       [0.22522386, 0.23703385, 0.18189229, 0.35585   ],\n       [0.35751154, 0.20531893, 0.27647975, 0.16068979],\n       [0.2255795 , 0.27330994, 0.26439139, 0.23671917],\n       [0.24365642, 0.23608719, 0.22889864, 0.29135775],\n       [0.31289844, 0.2040881 , 0.32059933, 0.16241413],\n       [0.26068736, 0.25224685, 0.18273221, 0.30433358],\n       [0.2613132 , 0.21104498, 0.22566826, 0.30197355],\n       [0.39563951, 0.17129542, 0.24117801, 0.19188706],\n       [0.3558268 , 0.19885256, 0.25140339, 0.19391726],\n       [0.20310412, 0.229285  , 0.30577504, 0.26183584],\n       [0.38927757, 0.19525348, 0.18176116, 0.23370779],\n       [0.34724909, 0.1973355 , 0.27416521, 0.18125019],\n       [0.41572864, 0.16776518, 0.26157225, 0.15493393],\n       [0.31695152, 0.19704069, 0.25808328, 0.22792451],\n       [0.22532026, 0.27160898, 0.1840424 , 0.31902836],\n       [0.21099178, 0.25485083, 0.3427498 , 0.19140759],\n       [0.17013905, 0.30473144, 0.26929998, 0.25582954],\n       [0.18956655, 0.30578208, 0.26995791, 0.23469346],\n       [0.3730272 , 0.18748385, 0.24602629, 0.19346265],\n       [0.24411075, 0.25627365, 0.16658906, 0.33302654],\n       [0.25131723, 0.23452552, 0.30715219, 0.20700505],\n       [0.19331299, 0.30853866, 0.30359157, 0.19455679],\n       [0.28210633, 0.22519068, 0.1673313 , 0.32537168],\n       [0.36370854, 0.18047039, 0.26316295, 0.19265812],\n       [0.2465464 , 0.25788896, 0.30162759, 0.19393706],\n       [0.28227707, 0.25449982, 0.28258062, 0.18064248],\n       [0.26972725, 0.22605   , 0.35241274, 0.15181001],\n       [0.22370022, 0.28510018, 0.23785056, 0.25334904],\n       [0.41084242, 0.17988081, 0.21201182, 0.19726495],\n       [0.33038132, 0.21726574, 0.17207612, 0.28027683],\n       [0.39780017, 0.19091226, 0.21496807, 0.1963195 ],\n       [0.14187151, 0.34156177, 0.18988415, 0.32668258],\n       [0.26437025, 0.20621591, 0.36171784, 0.16769601],\n       [0.2845578 , 0.2049101 , 0.30510401, 0.20542808],\n       [0.26927303, 0.25286382, 0.14514899, 0.33271416],\n       [0.15334787, 0.31125589, 0.145229  , 0.39016723],\n       [0.1754709 , 0.25309565, 0.3739834 , 0.19745006],\n       [0.26446863, 0.23488893, 0.25202327, 0.24861917],\n       [0.22966997, 0.24233172, 0.21805088, 0.30994742],\n       [0.26282513, 0.21661742, 0.2914227 , 0.22913474],\n       [0.39248512, 0.16142745, 0.30351155, 0.14257587],\n       [0.34749724, 0.18920406, 0.23550737, 0.22779133],\n       [0.24758864, 0.22708365, 0.29920405, 0.22612367],\n       [0.14518606, 0.23934145, 0.40523521, 0.21023729],\n       [0.17759562, 0.2654648 , 0.35336511, 0.20357447],\n       [0.17911547, 0.32289186, 0.16539017, 0.3326025 ],\n       [0.2955436 , 0.23345154, 0.24283037, 0.22817449],\n       [0.39144117, 0.20214474, 0.20809093, 0.19832316],\n       [0.13398521, 0.22373636, 0.49539713, 0.14688129],\n       [0.24730087, 0.27315367, 0.18798734, 0.29155812],\n       [0.1103127 , 0.28870052, 0.22588781, 0.37509897],\n       [0.2140584 , 0.27793495, 0.20206894, 0.30593771],\n       [0.38910333, 0.19533711, 0.26147203, 0.15408753],\n       [0.41929162, 0.12048006, 0.27681819, 0.18341013],\n       [0.23089133, 0.25882943, 0.23372597, 0.27655327],\n       [0.24542793, 0.24239919, 0.19905055, 0.31312234],\n       [0.30311017, 0.1990464 , 0.28420517, 0.21363827],\n       [0.25132737, 0.27397907, 0.19219114, 0.28250242],\n       [0.2105877 , 0.28050609, 0.21513177, 0.29377444],\n       [0.31219186, 0.21636778, 0.12730859, 0.34413177],\n       [0.15063454, 0.27167664, 0.20484236, 0.37284646],\n       [0.16110045, 0.29130977, 0.28339304, 0.26419675],\n       [0.18904213, 0.26205294, 0.24843689, 0.30046804],\n       [0.13874638, 0.31170717, 0.30271045, 0.246836  ],\n       [0.18336506, 0.24256267, 0.44328515, 0.13078712],\n       [0.28593153, 0.19021686, 0.36256007, 0.16129154],\n       [0.22682721, 0.23373402, 0.38455921, 0.15487956],\n       [0.29226443, 0.17693325, 0.25474346, 0.27605886],\n       [0.17668437, 0.31138206, 0.27398153, 0.23795204],\n       [0.23509736, 0.25583809, 0.20181124, 0.30725331],\n       [0.3033693 , 0.18340441, 0.36075887, 0.15246743],\n       [0.34754393, 0.21059747, 0.20245169, 0.23940691],\n       [0.4053661 , 0.17321805, 0.2317953 , 0.18962056],\n       [0.3475439 , 0.18400283, 0.28133783, 0.18711544],\n       [0.16005921, 0.31517627, 0.15479929, 0.36996523],\n       [0.36153142, 0.19255079, 0.14945009, 0.2964677 ],\n       [0.32026059, 0.20982859, 0.28684606, 0.18306476],\n       [0.16030726, 0.2491371 , 0.45731281, 0.13324283],\n       [0.29869638, 0.23439753, 0.23825879, 0.2286473 ],\n       [0.2155844 , 0.26564469, 0.29772451, 0.2210464 ],\n       [0.27763521, 0.22688941, 0.14897566, 0.34649971],\n       [0.17873727, 0.29889062, 0.26024255, 0.26212955],\n       [0.2104537 , 0.28809616, 0.30869446, 0.19275567],\n       [0.20299406, 0.28249175, 0.17399012, 0.34052406],\n       [0.1498257 , 0.28789015, 0.34551872, 0.21676543],\n       [0.24285141, 0.24743735, 0.29888656, 0.21082468],\n       [0.2451437 , 0.2487512 , 0.22339536, 0.28270974],\n       [0.3472251 , 0.17663078, 0.24268763, 0.23345649],\n       [0.32974956, 0.20071435, 0.17620529, 0.29333081],\n       [0.27691203, 0.1836451 , 0.3539941 , 0.18544877],\n       [0.17887063, 0.28130923, 0.31433335, 0.22548679],\n       [0.44432283, 0.10742868, 0.30195307, 0.14629542],\n       [0.39472424, 0.15745657, 0.28010754, 0.16771165],\n       [0.1417601 , 0.24285972, 0.37319072, 0.24218946],\n       [0.20671932, 0.23585268, 0.39768057, 0.15974743],\n       [0.14560437, 0.22444782, 0.45187619, 0.17807162],\n       [0.32100439, 0.21267983, 0.21662234, 0.24969344],\n       [0.18117843, 0.26653638, 0.38617183, 0.16611335],\n       [0.34655559, 0.19293356, 0.16134437, 0.29916649],\n       [0.16670971, 0.22834372, 0.45480888, 0.15013769],\n       [0.31207289, 0.19882012, 0.23534809, 0.2537589 ],\n       [0.22216423, 0.27330614, 0.14741506, 0.35711457],\n       [0.26431575, 0.26431178, 0.24134097, 0.23003149],\n       [0.21094777, 0.25302402, 0.38918985, 0.14683836],\n       [0.2308154 , 0.24380153, 0.1851921 , 0.34019097],\n       [0.27356338, 0.1947198 , 0.34330673, 0.18841008],\n       [0.28911168, 0.23382349, 0.21737099, 0.25969383],\n       [0.23680909, 0.27994818, 0.3298558 , 0.15338693],\n       [0.37461778, 0.17437501, 0.26695703, 0.18405018],\n       [0.29068924, 0.20268792, 0.18063191, 0.32599092],\n       [0.23862164, 0.23281218, 0.29268947, 0.23587671],\n       [0.32479924, 0.18734568, 0.29758996, 0.19026513],\n       [0.41858588, 0.16343493, 0.270242  , 0.14773718],\n       [0.24641954, 0.25565287, 0.17802212, 0.31990547],\n       [0.36215084, 0.19522019, 0.21021982, 0.23240916],\n       [0.22945057, 0.21212745, 0.39616832, 0.16225366],\n       [0.38515372, 0.15671254, 0.31402109, 0.14411265],\n       [0.29188079, 0.23527173, 0.1971565 , 0.27569099],\n       [0.1904361 , 0.2964686 , 0.26281915, 0.25027616],\n       [0.21633711, 0.26094008, 0.28704151, 0.23568129],\n       [0.33373008, 0.22122333, 0.28280183, 0.16224476],\n       [0.30319321, 0.20808055, 0.20427369, 0.28445255],\n       [0.2826108 , 0.17038205, 0.380261  , 0.16674615],\n       [0.14530979, 0.27437306, 0.29769663, 0.28262052],\n       [0.25723023, 0.20843921, 0.33319811, 0.20113245],\n       [0.17794583, 0.27876901, 0.32799545, 0.2152897 ],\n       [0.34226467, 0.19471417, 0.23265246, 0.2303687 ],\n       [0.43138387, 0.14475468, 0.27637008, 0.14749138],\n       [0.28174277, 0.23480795, 0.31114972, 0.17229956],\n       [0.26470797, 0.23435697, 0.16612265, 0.33481241],\n       [0.1664094 , 0.26849055, 0.42695014, 0.13814991],\n       [0.20435863, 0.26415472, 0.26978436, 0.26170229],\n       [0.25678941, 0.24508923, 0.17023538, 0.32788598],\n       [0.33969904, 0.2097594 , 0.15055235, 0.2999892 ],\n       [0.27549271, 0.24334538, 0.22902401, 0.25213791],\n       [0.31850352, 0.21909171, 0.25963925, 0.20276551],\n       [0.34492072, 0.17960006, 0.16141702, 0.3140622 ],\n       [0.23912855, 0.27770502, 0.24423778, 0.23892866],\n       [0.24798353, 0.2536834 , 0.26756016, 0.23077292],\n       [0.24557644, 0.23526879, 0.14891102, 0.37024375],\n       [0.21116095, 0.29024703, 0.23261369, 0.26597832],\n       [0.29944731, 0.20730603, 0.24055411, 0.25269254],\n       [0.35831848, 0.18512093, 0.2654175 , 0.19114309],\n       [0.12880532, 0.30371632, 0.26600909, 0.30146927],\n       [0.11213504, 0.33789416, 0.25396532, 0.29600547],\n       [0.38300879, 0.18412437, 0.18962861, 0.24323823],\n       [0.192136  , 0.28489438, 0.25660089, 0.26636873],\n       [0.17412996, 0.31250415, 0.28824653, 0.22511937],\n       [0.27053605, 0.21194386, 0.21940497, 0.29811512],\n       [0.22428556, 0.19768307, 0.43810724, 0.13992413],\n       [0.30221063, 0.21699668, 0.16832287, 0.31246981],\n       [0.23489043, 0.25088005, 0.21557356, 0.29865597],\n       [0.19164506, 0.2480528 , 0.29051213, 0.26979001],\n       [0.20548945, 0.2736552 , 0.20582311, 0.31503224],\n       [0.25228224, 0.23156274, 0.34363412, 0.1725209 ],\n       [0.28533099, 0.23801441, 0.17375334, 0.30290126],\n       [0.33907413, 0.22057795, 0.28541329, 0.15493463],\n       [0.15663478, 0.30529966, 0.23443583, 0.30362973],\n       [0.15731505, 0.27120745, 0.31487202, 0.25660548]])"
                    },
                    "execution_count": 152,
                    "metadata": {},
                    "output_type": "execute_result"
                }
            ],
            "source": "y_pred_proba"
        },
        {
            "cell_type": "code",
            "execution_count": 167,
            "metadata": {},
            "outputs": [],
            "source": "accuracy['LR']=metrics.accuracy_score(y_test,y_pred_lr)\naccuracy_lr={}\naccuracy_lr['Jaccard Similarity Index']=jaccard_similarity_score(y_test,y_pred_lr)\naccuracy_lr['F1-Score']=f1_score(y_test,y_pred,average=\"weighted\")"
        },
        {
            "cell_type": "code",
            "execution_count": 154,
            "metadata": {},
            "outputs": [],
            "source": "from sklearn.metrics import log_loss"
        },
        {
            "cell_type": "code",
            "execution_count": 155,
            "metadata": {},
            "outputs": [
                {
                    "data": {
                        "text/plain": "array([4, 1, 1, 2, 4, 4, 3, 1, 3, 4, 4, 2, 4, 1, 4, 3, 4, 2, 3, 4, 1, 1,\n       1, 3, 4, 4, 4, 2, 4, 3, 1, 1, 4, 3, 4, 4, 3, 3, 4, 4, 2, 4, 1, 1,\n       2, 4, 3, 3, 2, 2, 2, 3, 2, 3, 3, 4, 4, 3, 1, 4, 1, 2, 3, 3, 3, 1,\n       4, 3, 2, 4, 3, 1, 4, 3, 1, 4, 2, 4, 3, 2, 1, 3, 1, 1, 1, 2, 3, 2,\n       1, 3, 4, 1, 3, 1, 3, 1, 4, 1, 1, 3, 4, 1, 4, 3, 4, 4, 2, 1, 3, 4,\n       4, 1, 2, 2, 1, 2, 3, 1, 3, 1, 1, 1, 2, 3, 3, 4, 2, 4, 2, 1, 2, 1,\n       3, 1, 3, 3, 2, 2, 1, 3, 2, 2, 2, 3, 1, 4, 3, 2, 2, 3, 4, 4, 4, 2,\n       2, 3, 1, 2, 4, 3, 3, 1, 1, 3, 1, 4, 4, 1, 3, 2, 1, 2, 4, 2, 4, 2,\n       2, 3, 4, 1, 1, 2, 3, 1, 4, 1, 4, 1, 3, 4, 2, 3, 1, 2, 3, 2, 3, 3,\n       2, 3, 4, 4, 3, 1, 3, 1, 1, 1, 1, 3, 3, 1, 2, 4, 4, 3, 1, 1, 3, 1,\n       4, 4, 4, 2, 1, 1, 1, 1, 3, 3, 2, 3, 2, 4, 4, 4, 3, 4, 3, 4, 3, 4,\n       3, 2, 3, 3, 2, 2, 3, 4])"
                    },
                    "execution_count": 155,
                    "metadata": {},
                    "output_type": "execute_result"
                }
            ],
            "source": "np.asarray(y_test)"
        },
        {
            "cell_type": "code",
            "execution_count": 169,
            "metadata": {},
            "outputs": [
                {
                    "data": {
                        "text/plain": "{'Jaccard Similarity Index': 0.408,\n 'F1-Score': 0.3361783346440063,\n 'Logloss': 1.26708666397565}"
                    },
                    "execution_count": 169,
                    "metadata": {},
                    "output_type": "execute_result"
                }
            ],
            "source": "accuracy_lr['Logloss']=log_loss(np.asarray(y_test),y_pred_proba)\naccuracy_lr"
        },
        {
            "cell_type": "code",
            "execution_count": 161,
            "metadata": {},
            "outputs": [
                {
                    "data": {
                        "text/plain": "{'DT': 0.424, 'SVM': 0.388, 'LR': 0.408, 'knn': 0.356}"
                    },
                    "execution_count": 161,
                    "metadata": {},
                    "output_type": "execute_result"
                }
            ],
            "source": "accuracy"
        },
        {
            "cell_type": "markdown",
            "metadata": {},
            "source": "## Comparing all classifiers"
        },
        {
            "cell_type": "code",
            "execution_count": 162,
            "metadata": {},
            "outputs": [
                {
                    "data": {
                        "text/plain": "'DT'"
                    },
                    "execution_count": 162,
                    "metadata": {},
                    "output_type": "execute_result"
                }
            ],
            "source": "max(accuracy,key=accuracy.get)"
        },
        {
            "cell_type": "code",
            "execution_count": 163,
            "metadata": {},
            "outputs": [
                {
                    "data": {
                        "text/plain": "Text(0.5, 1.0, 'ESTIMATING ACCURACY IN PREDICTING CUSTOMER CATEGORY BY DIFFERENT CLASSIFIERS')"
                    },
                    "execution_count": 163,
                    "metadata": {},
                    "output_type": "execute_result"
                },
                {
                    "data": {
                        "image/png": "[encoded data removed]",
                        "text/plain": "<Figure size 432x288 with 1 Axes>"
                    },
                    "metadata": {
                        "needs_background": "light"
                    },
                    "output_type": "display_data"
                }
            ],
            "source": "plt.plot(accuracy.keys(),accuracy.values())\nplt.xlabel('CLASSIFIER')\nplt.ylabel('ACCURACY')\nplt.title('ESTIMATING ACCURACY IN PREDICTING CUSTOMER CATEGORY BY DIFFERENT CLASSIFIERS')"
        },
        {
            "cell_type": "code",
            "execution_count": 171,
            "metadata": {},
            "outputs": [
                {
                    "name": "stdout",
                    "output_type": "stream",
                    "text": "Accuracy by K Nearest Neighbors classifier {'Jaccard Similarity Index': 0.356, 'F1-score': 0.35372556099971597}\nAccuracy by Decision Trees classifier {'Jaccard Similarity Index': 0.424, 'F1-score': 0.3736602909332768}\nAccuracy by Support Vector Machines {'F1-Score': 0.37662825652099036, 'Jaccard Similarity Score': 0.388}\nAccuracy by Logistic Regression {'Jaccard Similarity Index': 0.408, 'F1-Score': 0.3361783346440063, 'Logloss': 1.26708666397565}\n"
                }
            ],
            "source": "print('Accuracy by K Nearest Neighbors classifier',accuracy_knn)\nprint('Accuracy by Decision Trees classifier',accuracy_dt)\nprint('Accuracy by Support Vector Machines',accuracy_svm)\nprint('Accuracy by Logistic Regression',accuracy_lr)"
        },
        {
            "cell_type": "markdown",
            "metadata": {},
            "source": "## RESULTS\n\n|   Algorithm           |Jaccard| F1 Score            | Logloss         |\n|-----------------------|-------|---------------------|-----------------|\n|KNN                    | 0.356 | 0.35372556099971597 | N/A             |\n|Decision Trees         | 0.424 | 0.3736602909332768  | N/A             |\n|Support Vector Machines| 0.388 | 0.37662825652099036 | N/A             |\n|Logistic Regression    | 0.408 | 0.3361783346440063  | 1.26708666397565|"
        },
        {
            "cell_type": "code",
            "execution_count": null,
            "metadata": {},
            "outputs": [],
            "source": ""
        }
    ],
    "metadata": {
        "kernelspec": {
            "display_name": "Python 3.6",
            "language": "python",
            "name": "python3"
        },
        "language_info": {
            "codemirror_mode": {
                "name": "ipython",
                "version": 3
            },
            "file_extension": ".py",
            "mimetype": "text/x-python",
            "name": "python",
            "nbconvert_exporter": "python",
            "pygments_lexer": "ipython3",
            "version": "3.6.9"
        }
    },
    "nbformat": 4,
    "nbformat_minor": 1
}