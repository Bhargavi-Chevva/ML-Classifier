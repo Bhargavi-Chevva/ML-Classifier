{
    "cells": [
        {
            "cell_type": "markdown",
            "metadata": {},
            "source": "## MACHINE LEARNING PROJECT"
        },
        {
            "cell_type": "code",
            "execution_count": 3,
            "metadata": {},
            "outputs": [
                {
                    "name": "stdout",
                    "output_type": "stream",
                    "text": "--2020-04-05 07:57:24--  https://s3-api.us-geo.objectstorage.softlayer.net/cf-courses-data/CognitiveClass/ML0101ENv3/labs/teleCust1000t.csv\nResolving s3-api.us-geo.objectstorage.softlayer.net (s3-api.us-geo.objectstorage.softlayer.net)... 67.228.254.196\nConnecting to s3-api.us-geo.objectstorage.softlayer.net (s3-api.us-geo.objectstorage.softlayer.net)|67.228.254.196|:443... connected.\nHTTP request sent, awaiting response... 200 OK\nLength: 37048 (36K) [text/csv]\nSaving to: \u2018teleCust1000t.csv\u2019\n\n100%[======================================>] 37,048      --.-K/s   in 0.07s   \n\n2020-04-05 07:57:25 (485 KB/s) - \u2018teleCust1000t.csv\u2019 saved [37048/37048]\n\n"
                }
            ],
            "source": "!wget -O teleCust1000t.csv https://s3-api.us-geo.objectstorage.softlayer.net/cf-courses-data/CognitiveClass/ML0101ENv3/labs/teleCust1000t.csv\n    "
        },
        {
            "cell_type": "code",
            "execution_count": 4,
            "metadata": {},
            "outputs": [],
            "source": "import numpy as np\nimport pandas as pd"
        },
        {
            "cell_type": "code",
            "execution_count": 5,
            "metadata": {},
            "outputs": [],
            "source": "data=pd.read_csv('teleCust1000t.csv')"
        },
        {
            "cell_type": "code",
            "execution_count": 6,
            "metadata": {},
            "outputs": [
                {
                    "data": {
                        "text/html": "<div>\n<style scoped>\n    .dataframe tbody tr th:only-of-type {\n        vertical-align: middle;\n    }\n\n    .dataframe tbody tr th {\n        vertical-align: top;\n    }\n\n    .dataframe thead th {\n        text-align: right;\n    }\n</style>\n<table border=\"1\" class=\"dataframe\">\n  <thead>\n    <tr style=\"text-align: right;\">\n      <th></th>\n      <th>region</th>\n      <th>tenure</th>\n      <th>age</th>\n      <th>marital</th>\n      <th>address</th>\n      <th>income</th>\n      <th>ed</th>\n      <th>employ</th>\n      <th>retire</th>\n      <th>gender</th>\n      <th>reside</th>\n      <th>custcat</th>\n    </tr>\n  </thead>\n  <tbody>\n    <tr>\n      <th>0</th>\n      <td>2</td>\n      <td>13</td>\n      <td>44</td>\n      <td>1</td>\n      <td>9</td>\n      <td>64.0</td>\n      <td>4</td>\n      <td>5</td>\n      <td>0.0</td>\n      <td>0</td>\n      <td>2</td>\n      <td>1</td>\n    </tr>\n    <tr>\n      <th>1</th>\n      <td>3</td>\n      <td>11</td>\n      <td>33</td>\n      <td>1</td>\n      <td>7</td>\n      <td>136.0</td>\n      <td>5</td>\n      <td>5</td>\n      <td>0.0</td>\n      <td>0</td>\n      <td>6</td>\n      <td>4</td>\n    </tr>\n    <tr>\n      <th>2</th>\n      <td>3</td>\n      <td>68</td>\n      <td>52</td>\n      <td>1</td>\n      <td>24</td>\n      <td>116.0</td>\n      <td>1</td>\n      <td>29</td>\n      <td>0.0</td>\n      <td>1</td>\n      <td>2</td>\n      <td>3</td>\n    </tr>\n    <tr>\n      <th>3</th>\n      <td>2</td>\n      <td>33</td>\n      <td>33</td>\n      <td>0</td>\n      <td>12</td>\n      <td>33.0</td>\n      <td>2</td>\n      <td>0</td>\n      <td>0.0</td>\n      <td>1</td>\n      <td>1</td>\n      <td>1</td>\n    </tr>\n    <tr>\n      <th>4</th>\n      <td>2</td>\n      <td>23</td>\n      <td>30</td>\n      <td>1</td>\n      <td>9</td>\n      <td>30.0</td>\n      <td>1</td>\n      <td>2</td>\n      <td>0.0</td>\n      <td>0</td>\n      <td>4</td>\n      <td>3</td>\n    </tr>\n  </tbody>\n</table>\n</div>",
                        "text/plain": "   region  tenure  age  marital  address  income  ed  employ  retire  gender  \\\n0       2      13   44        1        9    64.0   4       5     0.0       0   \n1       3      11   33        1        7   136.0   5       5     0.0       0   \n2       3      68   52        1       24   116.0   1      29     0.0       1   \n3       2      33   33        0       12    33.0   2       0     0.0       1   \n4       2      23   30        1        9    30.0   1       2     0.0       0   \n\n   reside  custcat  \n0       2        1  \n1       6        4  \n2       2        3  \n3       1        1  \n4       4        3  "
                    },
                    "execution_count": 6,
                    "metadata": {},
                    "output_type": "execute_result"
                }
            ],
            "source": "data.head(5)"
        },
        {
            "cell_type": "code",
            "execution_count": 7,
            "metadata": {},
            "outputs": [
                {
                    "data": {
                        "text/plain": "(1000, 12)"
                    },
                    "execution_count": 7,
                    "metadata": {},
                    "output_type": "execute_result"
                }
            ],
            "source": "data.shape"
        },
        {
            "cell_type": "code",
            "execution_count": 8,
            "metadata": {},
            "outputs": [
                {
                    "name": "stdout",
                    "output_type": "stream",
                    "text": "<class 'pandas.core.frame.DataFrame'>\nRangeIndex: 1000 entries, 0 to 999\nData columns (total 12 columns):\nregion     1000 non-null int64\ntenure     1000 non-null int64\nage        1000 non-null int64\nmarital    1000 non-null int64\naddress    1000 non-null int64\nincome     1000 non-null float64\ned         1000 non-null int64\nemploy     1000 non-null int64\nretire     1000 non-null float64\ngender     1000 non-null int64\nreside     1000 non-null int64\ncustcat    1000 non-null int64\ndtypes: float64(2), int64(10)\nmemory usage: 93.8 KB\n"
                }
            ],
            "source": "data.info()\n"
        },
        {
            "cell_type": "code",
            "execution_count": 9,
            "metadata": {},
            "outputs": [
                {
                    "data": {
                        "text/plain": "Index(['region', 'tenure', 'age', 'marital', 'address', 'income', 'ed',\n       'employ', 'retire', 'gender', 'reside', 'custcat'],\n      dtype='object')"
                    },
                    "execution_count": 9,
                    "metadata": {},
                    "output_type": "execute_result"
                }
            ],
            "source": "data.columns"
        },
        {
            "cell_type": "code",
            "execution_count": 12,
            "metadata": {},
            "outputs": [
                {
                    "data": {
                        "text/plain": "0      1\n1      4\n2      3\n3      1\n4      3\n5      3\n6      2\n7      4\n8      3\n9      2\n10     1\n11     3\n12     1\n13     4\n14     1\n15     2\n16     3\n17     3\n18     1\n19     4\n20     2\n21     1\n22     4\n23     1\n24     3\n25     3\n26     4\n27     3\n28     1\n29     2\n      ..\n970    1\n971    1\n972    3\n973    3\n974    3\n975    2\n976    3\n977    1\n978    1\n979    3\n980    2\n981    1\n982    3\n983    1\n984    3\n985    4\n986    4\n987    4\n988    2\n989    3\n990    3\n991    2\n992    3\n993    4\n994    4\n995    1\n996    1\n997    4\n998    3\n999    2\nName: custcat, Length: 1000, dtype: int64"
                    },
                    "execution_count": 12,
                    "metadata": {},
                    "output_type": "execute_result"
                }
            ],
            "source": "y=data['custcat']\ny"
        },
        {
            "cell_type": "code",
            "execution_count": 19,
            "metadata": {},
            "outputs": [
                {
                    "data": {
                        "text/html": "<div>\n<style scoped>\n    .dataframe tbody tr th:only-of-type {\n        vertical-align: middle;\n    }\n\n    .dataframe tbody tr th {\n        vertical-align: top;\n    }\n\n    .dataframe thead th {\n        text-align: right;\n    }\n</style>\n<table border=\"1\" class=\"dataframe\">\n  <thead>\n    <tr style=\"text-align: right;\">\n      <th></th>\n      <th>region</th>\n      <th>tenure</th>\n      <th>age</th>\n      <th>marital</th>\n      <th>address</th>\n      <th>income</th>\n      <th>ed</th>\n      <th>employ</th>\n      <th>retire</th>\n      <th>gender</th>\n      <th>reside</th>\n    </tr>\n  </thead>\n  <tbody>\n    <tr>\n      <th>0</th>\n      <td>2</td>\n      <td>13</td>\n      <td>44</td>\n      <td>1</td>\n      <td>9</td>\n      <td>64.0</td>\n      <td>4</td>\n      <td>5</td>\n      <td>0.0</td>\n      <td>0</td>\n      <td>2</td>\n    </tr>\n    <tr>\n      <th>1</th>\n      <td>3</td>\n      <td>11</td>\n      <td>33</td>\n      <td>1</td>\n      <td>7</td>\n      <td>136.0</td>\n      <td>5</td>\n      <td>5</td>\n      <td>0.0</td>\n      <td>0</td>\n      <td>6</td>\n    </tr>\n    <tr>\n      <th>2</th>\n      <td>3</td>\n      <td>68</td>\n      <td>52</td>\n      <td>1</td>\n      <td>24</td>\n      <td>116.0</td>\n      <td>1</td>\n      <td>29</td>\n      <td>0.0</td>\n      <td>1</td>\n      <td>2</td>\n    </tr>\n    <tr>\n      <th>3</th>\n      <td>2</td>\n      <td>33</td>\n      <td>33</td>\n      <td>0</td>\n      <td>12</td>\n      <td>33.0</td>\n      <td>2</td>\n      <td>0</td>\n      <td>0.0</td>\n      <td>1</td>\n      <td>1</td>\n    </tr>\n    <tr>\n      <th>4</th>\n      <td>2</td>\n      <td>23</td>\n      <td>30</td>\n      <td>1</td>\n      <td>9</td>\n      <td>30.0</td>\n      <td>1</td>\n      <td>2</td>\n      <td>0.0</td>\n      <td>0</td>\n      <td>4</td>\n    </tr>\n    <tr>\n      <th>5</th>\n      <td>2</td>\n      <td>41</td>\n      <td>39</td>\n      <td>0</td>\n      <td>17</td>\n      <td>78.0</td>\n      <td>2</td>\n      <td>16</td>\n      <td>0.0</td>\n      <td>1</td>\n      <td>1</td>\n    </tr>\n  </tbody>\n</table>\n</div>",
                        "text/plain": "   region  tenure  age  marital  address  income  ed  employ  retire  gender  \\\n0       2      13   44        1        9    64.0   4       5     0.0       0   \n1       3      11   33        1        7   136.0   5       5     0.0       0   \n2       3      68   52        1       24   116.0   1      29     0.0       1   \n3       2      33   33        0       12    33.0   2       0     0.0       1   \n4       2      23   30        1        9    30.0   1       2     0.0       0   \n5       2      41   39        0       17    78.0   2      16     0.0       1   \n\n   reside  \n0       2  \n1       6  \n2       2  \n3       1  \n4       4  \n5       1  "
                    },
                    "execution_count": 19,
                    "metadata": {},
                    "output_type": "execute_result"
                }
            ],
            "source": "from sklearn import preprocessing\nx=data[['region', 'tenure', 'age', 'marital', 'address', 'income', 'ed',\n       'employ', 'retire', 'gender', 'reside']]\nx[:6]"
        },
        {
            "cell_type": "code",
            "execution_count": 20,
            "metadata": {},
            "outputs": [
                {
                    "name": "stderr",
                    "output_type": "stream",
                    "text": "/opt/conda/envs/Python36/lib/python3.6/site-packages/sklearn/preprocessing/data.py:645: DataConversionWarning: Data with input dtype int64, float64 were all converted to float64 by StandardScaler.\n  return self.partial_fit(X, y)\n"
                }
            ],
            "source": "x=preprocessing.StandardScaler().fit(x).transform(x.astype(float))"
        },
        {
            "cell_type": "code",
            "execution_count": 21,
            "metadata": {},
            "outputs": [
                {
                    "data": {
                        "text/plain": "array([[-0.02696767, -1.055125  ,  0.18450456,  1.0100505 , -0.25303431,\n        -0.12650641,  1.0877526 , -0.5941226 , -0.22207644, -1.03459817,\n        -0.23065004],\n       [ 1.19883553, -1.14880563, -0.69181243,  1.0100505 , -0.4514148 ,\n         0.54644972,  1.9062271 , -0.5941226 , -0.22207644, -1.03459817,\n         2.55666158],\n       [ 1.19883553,  1.52109247,  0.82182601,  1.0100505 ,  1.23481934,\n         0.35951747, -1.36767088,  1.78752803, -0.22207644,  0.96655883,\n        -0.23065004],\n       [-0.02696767, -0.11831864, -0.69181243, -0.9900495 ,  0.04453642,\n        -0.41625141, -0.54919639, -1.09029981, -0.22207644,  0.96655883,\n        -0.92747794],\n       [-0.02696767, -0.58672182, -0.93080797,  1.0100505 , -0.25303431,\n        -0.44429125, -1.36767088, -0.89182893, -0.22207644, -1.03459817,\n         1.16300577],\n       [-0.02696767,  0.2564039 , -0.21382135, -0.9900495 ,  0.54048764,\n         0.00434618, -0.54919639,  0.49746728, -0.22207644,  0.96655883,\n        -0.92747794]])"
                    },
                    "execution_count": 21,
                    "metadata": {},
                    "output_type": "execute_result"
                }
            ],
            "source": "x[:6]"
        },
        {
            "cell_type": "code",
            "execution_count": 23,
            "metadata": {},
            "outputs": [],
            "source": "from sklearn.model_selection import train_test_split\nx_train,x_test,y_train,y_test=train_test_split(x,y,test_size=0.25,random_state=4)"
        },
        {
            "cell_type": "code",
            "execution_count": 25,
            "metadata": {},
            "outputs": [
                {
                    "name": "stdout",
                    "output_type": "stream",
                    "text": "(750, 11) (750,) (250, 11) (250,)\n"
                }
            ],
            "source": "print(x_train.shape,y_train.shape,x_test.shape,y_test.shape)"
        },
        {
            "cell_type": "code",
            "execution_count": 26,
            "metadata": {},
            "outputs": [
                {
                    "data": {
                        "text/plain": "KNeighborsClassifier(algorithm='auto', leaf_size=30, metric='minkowski',\n           metric_params=None, n_jobs=None, n_neighbors=4, p=2,\n           weights='uniform')"
                    },
                    "execution_count": 26,
                    "metadata": {},
                    "output_type": "execute_result"
                }
            ],
            "source": "from sklearn.neighbors import KNeighborsClassifier\nk=4\nmodel=KNeighborsClassifier(n_neighbors=k).fit(x_train,y_train)\nmodel"
        },
        {
            "cell_type": "code",
            "execution_count": 27,
            "metadata": {},
            "outputs": [],
            "source": "y_pred=model.predict(x_test)"
        },
        {
            "cell_type": "code",
            "execution_count": 28,
            "metadata": {},
            "outputs": [
                {
                    "data": {
                        "text/plain": "array([1, 1, 3, 2, 4, 3, 3, 2, 2, 4, 1, 4, 3, 1, 3, 1, 4, 4, 3, 4, 3, 3,\n       3, 1, 1, 3, 1, 1, 1, 4, 1, 1, 4, 4, 3, 2, 3, 1, 2, 3, 3, 4, 2, 1,\n       4, 1, 4, 1, 4, 4, 2, 1, 2, 3, 2, 3, 3, 3, 1, 1, 1, 4, 2, 3, 2, 1,\n       1, 2, 2, 1, 1, 3, 4, 3, 2, 1, 4, 2, 2, 3, 3, 1, 2, 4, 4, 2, 3, 4,\n       1, 1, 2, 2, 1, 1, 1, 1, 2, 2, 4, 1, 2, 4, 1, 1, 1, 4, 2, 2, 2, 2,\n       1, 3, 2, 4, 1, 2, 1, 1, 2, 3, 4, 2, 2, 3, 1, 1, 2, 3, 1, 3, 3, 1,\n       1, 4, 2, 2, 2, 1, 1, 3, 1, 1, 4, 1, 1, 2, 1, 3, 2, 2, 1, 2, 2, 3,\n       2, 3, 3, 3, 3, 2, 2, 1, 1, 1, 3, 4, 4, 1, 3, 1, 3, 1, 1, 2, 2, 2,\n       1, 4, 1, 1, 1, 2, 1, 3, 3, 1, 2, 1, 4, 4, 3, 1, 1, 3, 3, 1, 1, 3,\n       3, 3, 3, 3, 3, 1, 2, 1, 3, 1, 1, 2, 1, 3, 2, 1, 3, 3, 1, 2, 1, 1,\n       4, 3, 2, 2, 4, 2, 1, 4, 4, 1, 4, 3, 1, 2, 2, 2, 1, 2, 4, 1, 3, 4,\n       4, 4, 3, 3, 4, 1, 2, 2])"
                    },
                    "execution_count": 28,
                    "metadata": {},
                    "output_type": "execute_result"
                }
            ],
            "source": "y_pred"
        },
        {
            "cell_type": "code",
            "execution_count": 29,
            "metadata": {},
            "outputs": [],
            "source": "from sklearn import metrics\ntrain_accuracy=metrics.accuracy_score(y_train,model.predict(x_train))"
        },
        {
            "cell_type": "code",
            "execution_count": 30,
            "metadata": {},
            "outputs": [],
            "source": "test_accuracy=metrics.accuracy_score(y_test,y_pred)"
        },
        {
            "cell_type": "code",
            "execution_count": 31,
            "metadata": {},
            "outputs": [
                {
                    "name": "stdout",
                    "output_type": "stream",
                    "text": "Accuracy for train data: 0.5413333333333333\nAccuracy for test data: 0.332\n"
                }
            ],
            "source": "print(\"Accuracy for train data:\",train_accuracy)\nprint(\"Accuracy for test data:\",test_accuracy)"
        },
        {
            "cell_type": "code",
            "execution_count": 34,
            "metadata": {},
            "outputs": [
                {
                    "data": {
                        "text/plain": "array([0.296, 0.3  , 0.304, 0.332, 0.34 , 0.316, 0.356, 0.332, 0.356,\n       0.344])"
                    },
                    "execution_count": 34,
                    "metadata": {},
                    "output_type": "execute_result"
                }
            ],
            "source": "k_values=10\nacc=np.zeros(k_values)\nfor i in range(1,k_values+1):\n    model=KNeighborsClassifier(n_neighbors=i).fit(\n        x_train,y_train)\n    y_pred=model.predict(x_test)\n    acc[i-1]=metrics.accuracy_score(y_test,y_pred)\nacc"
        },
        {
            "cell_type": "code",
            "execution_count": null,
            "metadata": {},
            "outputs": [],
            "source": "print(\"The maximum accuracy obtained using KNN Classifier is \",acc.max(),\" for k val\")"
        }
    ],
    "metadata": {
        "kernelspec": {
            "display_name": "Python 3.6",
            "language": "python",
            "name": "python3"
        },
        "language_info": {
            "codemirror_mode": {
                "name": "ipython",
                "version": 3
            },
            "file_extension": ".py",
            "mimetype": "text/x-python",
            "name": "python",
            "nbconvert_exporter": "python",
            "pygments_lexer": "ipython3",
            "version": "3.6.9"
        }
    },
    "nbformat": 4,
    "nbformat_minor": 1
}